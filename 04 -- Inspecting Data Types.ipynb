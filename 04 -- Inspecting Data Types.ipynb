{
 "cells": [
  {
   "cell_type": "markdown",
   "metadata": {},
   "source": [
    "## Inspecting Data Types"
   ]
  },
  {
   "cell_type": "code",
   "execution_count": 1,
   "metadata": {},
   "outputs": [],
   "source": [
    "import pandas as pd\n",
    "df_08 = pd.read_csv('data_08_for_04.csv')\n",
    "df_18 = pd.read_csv('data_18_for_04.csv')"
   ]
  },
  {
   "cell_type": "markdown",
   "metadata": {},
   "source": [
    "### Let's look at the `cyl` feature"
   ]
  },
  {
   "cell_type": "code",
   "execution_count": 2,
   "metadata": {},
   "outputs": [
    {
     "data": {
      "text/plain": [
       "352    (6 cyl)\n",
       "379    (4 cyl)\n",
       "578    (6 cyl)\n",
       "249    (4 cyl)\n",
       "402    (6 cyl)\n",
       "Name: cyl, dtype: object"
      ]
     },
     "execution_count": 2,
     "metadata": {},
     "output_type": "execute_result"
    }
   ],
   "source": [
    "# in 2008\n",
    "df_08['cyl'].sample(5)"
   ]
  },
  {
   "cell_type": "code",
   "execution_count": 3,
   "metadata": {},
   "outputs": [
    {
     "data": {
      "text/plain": [
       "96     8.0\n",
       "677    4.0\n",
       "396    4.0\n",
       "656    6.0\n",
       "271    6.0\n",
       "Name: cyl, dtype: float64"
      ]
     },
     "execution_count": 3,
     "metadata": {},
     "output_type": "execute_result"
    }
   ],
   "source": [
    "# in 2018\n",
    "df_18['cyl'].sample(5)"
   ]
  },
  {
   "cell_type": "markdown",
   "metadata": {},
   "source": [
    "> `cyl` is string in 2018 and Float in 2018"
   ]
  },
  {
   "cell_type": "markdown",
   "metadata": {},
   "source": [
    "### Let's look at the `air_pollution_score` feature"
   ]
  },
  {
   "cell_type": "code",
   "execution_count": 4,
   "metadata": {},
   "outputs": [
    {
     "data": {
      "text/plain": [
       "str"
      ]
     },
     "execution_count": 4,
     "metadata": {},
     "output_type": "execute_result"
    }
   ],
   "source": [
    "# check the type of one sample of air_pollution_score\n",
    "type(df_08['air_pollution_score'][0])"
   ]
  },
  {
   "cell_type": "code",
   "execution_count": 5,
   "metadata": {},
   "outputs": [
    {
     "data": {
      "text/plain": [
       "numpy.int64"
      ]
     },
     "execution_count": 5,
     "metadata": {},
     "output_type": "execute_result"
    }
   ],
   "source": [
    "# check the type of one sample of air_pollution_score\n",
    "type(df_18['air_pollution_score'][0])"
   ]
  },
  {
   "cell_type": "code",
   "execution_count": 6,
   "metadata": {},
   "outputs": [
    {
     "data": {
      "text/plain": [
       "False"
      ]
     },
     "execution_count": 6,
     "metadata": {},
     "output_type": "execute_result"
    }
   ],
   "source": [
    "# is the data the same type across the two dataframes?\n",
    "type(df_08['air_pollution_score'][0]) == type(df_18['air_pollution_score'][0])"
   ]
  },
  {
   "cell_type": "markdown",
   "metadata": {},
   "source": [
    "## How about for some other columns?"
   ]
  },
  {
   "cell_type": "code",
   "execution_count": 7,
   "metadata": {},
   "outputs": [
    {
     "data": {
      "text/plain": [
       "Index(['model', 'displ', 'cyl', 'trans', 'drive', 'fuel', 'veh_class',\n",
       "       'air_pollution_score', 'city_mpg', 'hwy_mpg', 'cmb_mpg',\n",
       "       'greenhouse_gas_score', 'smartway'],\n",
       "      dtype='object')"
      ]
     },
     "execution_count": 7,
     "metadata": {},
     "output_type": "execute_result"
    }
   ],
   "source": [
    "# first, what columns are there?\n",
    "df_08.columns"
   ]
  },
  {
   "cell_type": "markdown",
   "metadata": {},
   "source": [
    "### MPG data\n",
    "* city_mpg\n",
    "* hwy_mpg\n",
    "* cmb_mpg"
   ]
  },
  {
   "cell_type": "code",
   "execution_count": 8,
   "metadata": {},
   "outputs": [
    {
     "data": {
      "text/plain": [
       "519    14\n",
       "5      18\n",
       "745    15\n",
       "471    15\n",
       "1      17\n",
       "Name: city_mpg, dtype: object"
      ]
     },
     "execution_count": 8,
     "metadata": {},
     "output_type": "execute_result"
    }
   ],
   "source": [
    "# Let's look at some data for 2008\n",
    "df_08.city_mpg.sample(5)"
   ]
  },
  {
   "cell_type": "code",
   "execution_count": 9,
   "metadata": {},
   "outputs": [
    {
     "data": {
      "text/plain": [
       "411       16\n",
       "24        19\n",
       "327    12/17\n",
       "481       17\n",
       "202       18\n",
       "Name: city_mpg, dtype: object"
      ]
     },
     "execution_count": 9,
     "metadata": {},
     "output_type": "execute_result"
    }
   ],
   "source": [
    "# Let's look at some data for 2018\n",
    "df_18.city_mpg.sample(5)"
   ]
  },
  {
   "cell_type": "code",
   "execution_count": 10,
   "metadata": {},
   "outputs": [
    {
     "name": "stdout",
     "output_type": "stream",
     "text": [
      "2008 data, city_mpg column: <class 'str'>\n",
      "2018 data, city_mpg column: <class 'str'>\n"
     ]
    },
    {
     "data": {
      "text/plain": [
       "True"
      ]
     },
     "execution_count": 10,
     "metadata": {},
     "output_type": "execute_result"
    }
   ],
   "source": [
    "# what is type of data for city_mpg column?\n",
    "type_08 = type(df_08.city_mpg[0])\n",
    "print('2008 data, city_mpg column: {}'.format(type_08))\n",
    "type_18 = type(df_18.city_mpg[0])\n",
    "print('2018 data, city_mpg column: {}'.format(type_18))\n",
    "type_08 == type_18"
   ]
  },
  {
   "cell_type": "code",
   "execution_count": 11,
   "metadata": {},
   "outputs": [
    {
     "name": "stdout",
     "output_type": "stream",
     "text": [
      "2008 data, hwy_mpg column: <class 'str'>\n",
      "2018 data, hwy_mpg column: <class 'str'>\n"
     ]
    },
    {
     "data": {
      "text/plain": [
       "True"
      ]
     },
     "execution_count": 11,
     "metadata": {},
     "output_type": "execute_result"
    }
   ],
   "source": [
    "# what is type of data for city_mpg column?\n",
    "type_08 = type(df_08.hwy_mpg[0])\n",
    "print('2008 data, hwy_mpg column: {}'.format(type_08))\n",
    "type_18 = type(df_18.city_mpg[0])\n",
    "print('2018 data, hwy_mpg column: {}'.format(type_18))\n",
    "type_08 == type_18"
   ]
  },
  {
   "cell_type": "code",
   "execution_count": 12,
   "metadata": {},
   "outputs": [
    {
     "name": "stdout",
     "output_type": "stream",
     "text": [
      "2008 data, cmb_mpg column: <class 'str'>\n",
      "2018 data, cmb_mpg column: <class 'str'>\n"
     ]
    },
    {
     "data": {
      "text/plain": [
       "True"
      ]
     },
     "execution_count": 12,
     "metadata": {},
     "output_type": "execute_result"
    }
   ],
   "source": [
    "# what is type of data for city_mpg column?\n",
    "type_08 = type(df_08.cmb_mpg[0])\n",
    "print('2008 data, cmb_mpg column: {}'.format(type_08))\n",
    "type_18 = type(df_18.cmb_mpg[0])\n",
    "print('2018 data, cmb_mpg column: {}'.format(type_18))\n",
    "type_08 == type_18"
   ]
  },
  {
   "cell_type": "markdown",
   "metadata": {},
   "source": [
    "### Check out `greenhouse_gas_score`"
   ]
  },
  {
   "cell_type": "code",
   "execution_count": 13,
   "metadata": {},
   "outputs": [
    {
     "data": {
      "text/plain": [
       "432    6\n",
       "156    8\n",
       "620    5\n",
       "842    6\n",
       "41     3\n",
       "Name: greenhouse_gas_score, dtype: object"
      ]
     },
     "execution_count": 13,
     "metadata": {},
     "output_type": "execute_result"
    }
   ],
   "source": [
    "# let's look at some data for 2008\n",
    "df_08.greenhouse_gas_score.sample(5)"
   ]
  },
  {
   "cell_type": "code",
   "execution_count": 14,
   "metadata": {},
   "outputs": [
    {
     "data": {
      "text/plain": [
       "477     7\n",
       "763     4\n",
       "675     5\n",
       "52     10\n",
       "46      6\n",
       "Name: greenhouse_gas_score, dtype: int64"
      ]
     },
     "execution_count": 14,
     "metadata": {},
     "output_type": "execute_result"
    }
   ],
   "source": [
    "# let's look at some data for 2018\n",
    "df_18.greenhouse_gas_score.sample(5)"
   ]
  },
  {
   "cell_type": "code",
   "execution_count": 15,
   "metadata": {},
   "outputs": [
    {
     "data": {
      "text/plain": [
       "str"
      ]
     },
     "execution_count": 15,
     "metadata": {},
     "output_type": "execute_result"
    }
   ],
   "source": [
    "# what data type in 2008?\n",
    "type(df_08.greenhouse_gas_score[0])"
   ]
  },
  {
   "cell_type": "code",
   "execution_count": 16,
   "metadata": {},
   "outputs": [
    {
     "data": {
      "text/plain": [
       "numpy.int64"
      ]
     },
     "execution_count": 16,
     "metadata": {},
     "output_type": "execute_result"
    }
   ],
   "source": [
    "# what data type in 2018?\n",
    "type(df_18.greenhouse_gas_score[0])"
   ]
  },
  {
   "cell_type": "code",
   "execution_count": 17,
   "metadata": {},
   "outputs": [
    {
     "data": {
      "text/plain": [
       "False"
      ]
     },
     "execution_count": 17,
     "metadata": {},
     "output_type": "execute_result"
    }
   ],
   "source": [
    "# are they the same?\n",
    "type(df_08.greenhouse_gas_score[0]) == type(df_18.greenhouse_gas_score[0])"
   ]
  },
  {
   "cell_type": "code",
   "execution_count": null,
   "metadata": {},
   "outputs": [],
   "source": []
  }
 ],
 "metadata": {
  "kernelspec": {
   "display_name": "Python 3",
   "language": "python",
   "name": "python3"
  },
  "language_info": {
   "codemirror_mode": {
    "name": "ipython",
    "version": 3
   },
   "file_extension": ".py",
   "mimetype": "text/x-python",
   "name": "python",
   "nbconvert_exporter": "python",
   "pygments_lexer": "ipython3",
   "version": "3.6.6"
  }
 },
 "nbformat": 4,
 "nbformat_minor": 2
}
